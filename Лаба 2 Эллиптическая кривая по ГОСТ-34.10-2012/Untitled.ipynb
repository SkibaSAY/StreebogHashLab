{
 "cells": [
  {
   "cell_type": "code",
   "execution_count": 1,
   "id": "7d1887fc",
   "metadata": {},
   "outputs": [],
   "source": [
    "# Пример, потом сгенерирую свои параметры, смотрите, пожалуйста, ниже\n",
    "# – простое число p - модуль эллиптической кривой;\n",
    "\n",
    "p = 6277101735386680763835789423207666416083908700390324961279\n",
    "F = GF(p)\n",
    "\n",
    "# Sage: https://doc.sagemath.org/html/en/constructions/elliptic_curves.html\n",
    "# – эллиптическая кривая E, задаваемая a,b from F\n",
    "a = 21\n",
    "b = 10"
   ]
  },
  {
   "cell_type": "code",
   "execution_count": 20,
   "id": "4d424593",
   "metadata": {},
   "outputs": [],
   "source": [
    "E = EllipticCurve(F, [0,0,0,a,b])"
   ]
  },
  {
   "cell_type": "code",
   "execution_count": 21,
   "id": "a13f3713",
   "metadata": {},
   "outputs": [
    {
     "data": {
      "text/plain": [
       "Elliptic Curve defined by y^2 = x^3 + 21*x + 10 over Finite Field of size 6277101735386680763835789423207666416083908700390324961279"
      ]
     },
     "execution_count": 21,
     "metadata": {},
     "output_type": "execute_result"
    }
   ],
   "source": [
    "E"
   ]
  },
  {
   "cell_type": "code",
   "execution_count": 22,
   "id": "770c3162",
   "metadata": {},
   "outputs": [],
   "source": [
    "# порядок группы точек эллиптическойф кривой Е\n",
    "m = E.cardinality()"
   ]
  },
  {
   "cell_type": "code",
   "execution_count": null,
   "id": "aa394eff",
   "metadata": {},
   "outputs": [],
   "source": []
  },
  {
   "cell_type": "code",
   "execution_count": 23,
   "id": "5b8e717e",
   "metadata": {},
   "outputs": [
    {
     "data": {
      "text/plain": [
       "192"
      ]
     },
     "execution_count": 23,
     "metadata": {},
     "output_type": "execute_result"
    }
   ],
   "source": [
    "m.nbits()\n"
   ]
  },
  {
   "cell_type": "code",
   "execution_count": null,
   "id": "8bd0fb49",
   "metadata": {},
   "outputs": [],
   "source": [
    "# Нужно сгенерировать кривую с большим простым порядом >= 254 бит <= 255 bit"
   ]
  },
  {
   "cell_type": "code",
   "execution_count": 45,
   "id": "b575588e",
   "metadata": {},
   "outputs": [],
   "source": [
    "#p = random_prime(2^255-1,False,2^254)\n",
    "p = 30699232851861250083325455112151246498963906158005131330497024639069102717541"
   ]
  },
  {
   "cell_type": "code",
   "execution_count": 46,
   "id": "6f45fafd",
   "metadata": {},
   "outputs": [
    {
     "data": {
      "text/plain": [
       "True"
      ]
     },
     "execution_count": 46,
     "metadata": {},
     "output_type": "execute_result"
    }
   ],
   "source": [
    "is_prime(p)"
   ]
  },
  {
   "cell_type": "code",
   "execution_count": 47,
   "id": "ba77e773",
   "metadata": {},
   "outputs": [
    {
     "name": "stdout",
     "output_type": "stream",
     "text": [
      "30699232851861250083325455112151246498963906158005131330497024639069102717541\n"
     ]
    }
   ],
   "source": [
    "print(p)"
   ]
  },
  {
   "cell_type": "code",
   "execution_count": 48,
   "id": "185263d3",
   "metadata": {},
   "outputs": [
    {
     "data": {
      "text/plain": [
       "255"
      ]
     },
     "execution_count": 48,
     "metadata": {},
     "output_type": "execute_result"
    }
   ],
   "source": [
    "p.nbits()"
   ]
  },
  {
   "cell_type": "code",
   "execution_count": null,
   "id": "b61b142b",
   "metadata": {},
   "outputs": [],
   "source": []
  },
  {
   "cell_type": "code",
   "execution_count": 63,
   "id": "ed36d1da",
   "metadata": {},
   "outputs": [],
   "source": [
    "def check_gost_255_parameters(E, p, q) -> bool:\n",
    "    \"\"\"\n",
    "    Проверяет Е по требованиям ГОСТ для m = 255 бит \n",
    "    \"\"\"\n",
    "    m = E.cardinality()\n",
    "    \n",
    "    for t in range(1,32):\n",
    "        if (p ^ t) % q == 1:\n",
    "            return False\n",
    "    \n",
    "    if p == m:\n",
    "        return False\n",
    "    \n",
    "    if E.j_invariant() in [0, 1728]:\n",
    "        return False\n",
    "\n",
    "    return True"
   ]
  },
  {
   "cell_type": "code",
   "execution_count": 69,
   "id": "4e571d15",
   "metadata": {},
   "outputs": [
    {
     "name": "stdout",
     "output_type": "stream",
     "text": [
      "Success\n"
     ]
    }
   ],
   "source": [
    "# Можно пропустить, дальше будет взят результат подбора\n",
    "# Теперь нам нужно подобрать параметр б, чтобы порядок кривой был большой, ради этого мы и задали большой простой р\n",
    "F = GF(p)\n",
    "\n",
    "# Sage: https://doc.sagemath.org/html/en/constructions/elliptic_curves.html\n",
    "# – эллиптическая кривая E, задаваемая a,b from F\n",
    "a = 21\n",
    "b = 1\n",
    "\n",
    "# сделаем 100 попыток\n",
    "for i in range(1,100):\n",
    "    b = i\n",
    "    try:\n",
    "        E = EllipticCurve(F, [0,0,0,a,b])\n",
    "    except:\n",
    "        continue\n",
    "    # порядок группы точек эллиптическойф кривой Е\n",
    "    m = E.cardinality()\n",
    "    q = m\n",
    "\n",
    "    if is_prime(m) and m.nbits() == 255 and check_gost_255_parameters(E, p, q):\n",
    "        print('Success')\n",
    "        break\n",
    "else:\n",
    "    print('bad')\n",
    "    "
   ]
  },
  {
   "cell_type": "code",
   "execution_count": 70,
   "id": "49d5ef99",
   "metadata": {
    "scrolled": true
   },
   "outputs": [
    {
     "name": "stdout",
     "output_type": "stream",
     "text": [
      "91\n"
     ]
    }
   ],
   "source": [
    "print(b)"
   ]
  },
  {
   "cell_type": "code",
   "execution_count": 71,
   "id": "4a364ea3",
   "metadata": {},
   "outputs": [
    {
     "name": "stdout",
     "output_type": "stream",
     "text": [
      "Success\n"
     ]
    }
   ],
   "source": [
    "m = E.cardinality()\n",
    "q = m\n",
    "\n",
    "if is_prime(m) and m.nbits() == 255 and check_gost_255_parameters(E, p, q):\n",
    "    print('Success')\n",
    "else:\n",
    "    print('bad')"
   ]
  },
  {
   "cell_type": "code",
   "execution_count": null,
   "id": "d34eb13b",
   "metadata": {},
   "outputs": [],
   "source": []
  },
  {
   "cell_type": "code",
   "execution_count": 98,
   "id": "5c1e97ec",
   "metadata": {},
   "outputs": [],
   "source": [
    "# б = 91 оказалось подходящим по условия\n",
    "# (Из условий Александра Романовича): порядки точек совпадают - простой порядок всей группы гарантирует это\n",
    "# (ГОСТ) проверили требования к параметрам кривой в ГОСТ: check_gost_255_parameters\n",
    "p = 30699232851861250083325455112151246498963906158005131330497024639069102717541\n",
    "F = GF(p)\n",
    "a = 21\n",
    "b = 91\n",
    "E = EllipticCurve(F, [0,0,0,a,b])\n",
    "m = E.cardinality()\n",
    "q = m\n",
    "# Подходит любая ненулевая точка, тк мы сгенерирорвали так, что порядки всех точек равны\n",
    "P = E.lift_x(1)\n",
    "#\n",
    "d = 8791436124389467141524128416394596\n",
    "Q = d*P"
   ]
  },
  {
   "cell_type": "code",
   "execution_count": 9,
   "id": "d09c632a",
   "metadata": {},
   "outputs": [
    {
     "data": {
      "text/plain": [
       "Elliptic Curve defined by y^2 = x^3 + 21*x + 91 over Finite Field of size 30699232851861250083325455112151246498963906158005131330497024639069102717541"
      ]
     },
     "execution_count": 9,
     "metadata": {},
     "output_type": "execute_result"
    }
   ],
   "source": [
    "E"
   ]
  },
  {
   "cell_type": "code",
   "execution_count": 13,
   "id": "3587c11c",
   "metadata": {},
   "outputs": [
    {
     "name": "stdout",
     "output_type": "stream",
     "text": [
      "(1 : 16576249172647006302783497141349991181894673534486872887450383999092641742937 : 1)\n",
      "(14398755231403949154126098415433770481814929436940459827578250494430641097607 : 1903631450071985320187196060631873931150882524998305363972302806030518131230 : 1)\n",
      "(3831251870054767149331716123926601145979175706373338315764134263650556193070 : 26929041663542165766876799643413977290770284469548127501197352035226743539232 : 1)\n"
     ]
    }
   ],
   "source": [
    "# Test\n",
    "P = E.lift_x(1)\n",
    "print(P)\n",
    "print(2*P)\n",
    "print(7*P)"
   ]
  },
  {
   "cell_type": "code",
   "execution_count": null,
   "id": "e2a505d5",
   "metadata": {},
   "outputs": [],
   "source": []
  },
  {
   "cell_type": "code",
   "execution_count": 63,
   "id": "94ac2188",
   "metadata": {},
   "outputs": [],
   "source": [
    "# 2.Формирование цифровой подписи\n",
    "# Шаг 1\n",
    "# hash(message) беру из прошлой лабы, тк мой Стрибог не интегрирован в блокнот\n",
    "message_hash = '5b8c33beef3db4e41a5658a2a6f621de9e7d578b74c3eda16d117dce3e533'"
   ]
  },
  {
   "cell_type": "code",
   "execution_count": 64,
   "id": "fa758fb8",
   "metadata": {},
   "outputs": [
    {
     "name": "stdout",
     "output_type": "stream",
     "text": [
      "1100\n"
     ]
    }
   ],
   "source": [
    "print(bin(int('c',16))[2:])"
   ]
  },
  {
   "cell_type": "code",
   "execution_count": 65,
   "id": "6bf970ae",
   "metadata": {},
   "outputs": [],
   "source": [
    "msg_hash_bin = map(lambda x: bin(int(x, 16))[2:], message_hash)"
   ]
  },
  {
   "cell_type": "code",
   "execution_count": 66,
   "id": "144ad28b",
   "metadata": {},
   "outputs": [],
   "source": [
    "msg_hash_bin = list(map(lambda x: '0'*(4-len(x)) + x, msg_hash_bin))"
   ]
  },
  {
   "cell_type": "code",
   "execution_count": 67,
   "id": "ae5dc454",
   "metadata": {},
   "outputs": [],
   "source": [
    "msg_hash_bin = ''.join(msg_hash_bin)"
   ]
  },
  {
   "cell_type": "code",
   "execution_count": 68,
   "id": "e238b349",
   "metadata": {},
   "outputs": [
    {
     "data": {
      "text/plain": [
       "'0101101110001100001100111011111011101111001111011011010011100100000110100101011001011000101000101010011011110110001000011101111010011110011111010101011110001011011101001100001111101101101000010110110100010001011111011100111000111110010100110011'"
      ]
     },
     "execution_count": 68,
     "metadata": {},
     "output_type": "execute_result"
    }
   ],
   "source": [
    "msg_hash_bin"
   ]
  },
  {
   "cell_type": "code",
   "execution_count": 40,
   "id": "df26c2d4",
   "metadata": {},
   "outputs": [],
   "source": [
    "# Напишем вспомогательную функцию:\n",
    "def convert_hash_to_int(msg_hash:str) -> int:\n",
    "    msg_hash_bin = map(lambda x: bin(int(x, 16))[2:], msg_hash)\n",
    "    msg_hash_bin = list(map(lambda x: '0'*(4-len(x)) + x, msg_hash_bin))\n",
    "    msg_hash_bin = ''.join(msg_hash_bin)\n",
    "    return int(msg_hash_bin, 2)"
   ]
  },
  {
   "cell_type": "code",
   "execution_count": 71,
   "id": "d6c0b276",
   "metadata": {},
   "outputs": [
    {
     "data": {
      "text/plain": [
       "10109420153026071913927282020754067617368409882790886919067076269781017907"
      ]
     },
     "execution_count": 71,
     "metadata": {},
     "output_type": "execute_result"
    }
   ],
   "source": [
    "# Шаг 2\n",
    "#_a = int(msg_hash_bin, 2)\n",
    "_a = convert_hash_to_int(message_hash)\n",
    "_a"
   ]
  },
  {
   "cell_type": "code",
   "execution_count": 72,
   "id": "30102cfa",
   "metadata": {},
   "outputs": [],
   "source": [
    "e = _a % q"
   ]
  },
  {
   "cell_type": "code",
   "execution_count": 73,
   "id": "f1dd6eea",
   "metadata": {},
   "outputs": [],
   "source": [
    "if e == 0:\n",
    "    e = 1"
   ]
  },
  {
   "cell_type": "code",
   "execution_count": 74,
   "id": "c1c1fc5f",
   "metadata": {},
   "outputs": [],
   "source": [
    "def compute_e(_a:int, q:int) -> int:\n",
    "    e = _a % q\n",
    "    return e if e != 0 else 1"
   ]
  },
  {
   "cell_type": "code",
   "execution_count": 76,
   "id": "eddaba85",
   "metadata": {},
   "outputs": [
    {
     "data": {
      "text/plain": [
       "10109420153026071913927282020754067617368409882790886919067076269781017907"
      ]
     },
     "execution_count": 76,
     "metadata": {},
     "output_type": "execute_result"
    }
   ],
   "source": [
    "e = compute_e(_a, q)\n",
    "e"
   ]
  },
  {
   "cell_type": "code",
   "execution_count": 30,
   "id": "4881ea44",
   "metadata": {},
   "outputs": [
    {
     "name": "stdout",
     "output_type": "stream",
     "text": [
      "14189083577683248705338699822309083472028665172171027963340404431292367084468\n",
      "25364974838221291256710170366999887406724464100187569756527148590861962025651\n"
     ]
    }
   ],
   "source": [
    "# Код для генерации, идём к следу пункту\n",
    "r = 0\n",
    "k = 0\n",
    "while True:\n",
    "    k = randint(1, q)\n",
    "    C = k * P\n",
    "    r = int(C[0]) % q\n",
    "    if r != 0:\n",
    "        break\n",
    "print(r)\n",
    "print(k)"
   ]
  },
  {
   "cell_type": "code",
   "execution_count": 97,
   "id": "4b88f8ca",
   "metadata": {},
   "outputs": [],
   "source": [
    "r = 14189083577683248705338699822309083472028665172171027963340404431292367084468\n",
    "k = 25364974838221291256710170366999887406724464100187569756527148590861962025651"
   ]
  },
  {
   "cell_type": "code",
   "execution_count": 78,
   "id": "2cbf3e3f",
   "metadata": {},
   "outputs": [
    {
     "data": {
      "text/plain": [
       "14180222186159490648104699285312752785945763220296305490492321926222830351289"
      ]
     },
     "execution_count": 78,
     "metadata": {},
     "output_type": "execute_result"
    }
   ],
   "source": [
    "s = (r*d + k*e) % q\n",
    "s"
   ]
  },
  {
   "cell_type": "code",
   "execution_count": 79,
   "id": "098af6e8",
   "metadata": {},
   "outputs": [
    {
     "data": {
      "text/plain": [
       "'11111010111101011110010011000110010100010001110011100011101100010011000111100000101110111010101001111011010101110101000101110000011101111110000001011101100101001101000000001100111011001100010011010110111011011001111101000110101010100011110011011101101001111101011001101110001010100110000010100110101000001011100110011110001000011001110101011101101011011111111110101001000010011110011010101001011100010111000000110111100011101111100101001011101101101110010100110101100110100110001111000111111011001110111001'"
      ]
     },
     "execution_count": 79,
     "metadata": {},
     "output_type": "execute_result"
    }
   ],
   "source": [
    "r_ = bin(r)[2:]\n",
    "s_ = bin(s)[2:]\n",
    "digital_signature = r_ + s_\n",
    "digital_signature"
   ]
  },
  {
   "cell_type": "code",
   "execution_count": 99,
   "id": "69584eee",
   "metadata": {},
   "outputs": [
    {
     "name": "stdout",
     "output_type": "stream",
     "text": [
      "14189083577683248705338699822309083472028665172171027963340404431292367084468\n",
      "14180222186159490648104699285312752785945763220296305490492321926222830351289\n"
     ]
    }
   ],
   "source": [
    "# 3.Проверка ЦП\n",
    "l = len(digital_signature) / 2\n",
    "r = int(digital_signature[0:l], 2)\n",
    "print(r)\n",
    "s = int(digital_signature[l:], 2)\n",
    "print(s)"
   ]
  },
  {
   "cell_type": "code",
   "execution_count": 100,
   "id": "8346cea4",
   "metadata": {},
   "outputs": [],
   "source": [
    "# Шаг 2: вычислить хэш от сообщение - берём его из раннее вычисленного"
   ]
  },
  {
   "cell_type": "code",
   "execution_count": 101,
   "id": "94b388d2",
   "metadata": {},
   "outputs": [
    {
     "data": {
      "text/plain": [
       "10109420153026071913927282020754067617368409882790886919067076269781017907"
      ]
     },
     "execution_count": 101,
     "metadata": {},
     "output_type": "execute_result"
    }
   ],
   "source": [
    "# Шаг 3:\n",
    "_a = convert_hash_to_int(message_hash)\n",
    "_a"
   ]
  },
  {
   "cell_type": "code",
   "execution_count": 102,
   "id": "7460c071",
   "metadata": {},
   "outputs": [
    {
     "data": {
      "text/plain": [
       "10109420153026071913927282020754067617368409882790886919067076269781017907"
      ]
     },
     "execution_count": 102,
     "metadata": {},
     "output_type": "execute_result"
    }
   ],
   "source": [
    "e = compute_e(_a, q)\n",
    "e"
   ]
  },
  {
   "cell_type": "code",
   "execution_count": 103,
   "id": "bb9d308a",
   "metadata": {},
   "outputs": [
    {
     "data": {
      "text/plain": [
       "12573442438759871681318639583674257779453190654227207490550087087629621727427"
      ]
     },
     "execution_count": 103,
     "metadata": {},
     "output_type": "execute_result"
    }
   ],
   "source": [
    "# Шаг  4\n",
    "modRing = IntegerModRing(q)\n",
    "v = int(modRing(e)^(-1))\n",
    "v"
   ]
  },
  {
   "cell_type": "code",
   "execution_count": 104,
   "id": "4e499334",
   "metadata": {},
   "outputs": [
    {
     "name": "stdout",
     "output_type": "stream",
     "text": [
      "True\n"
     ]
    }
   ],
   "source": [
    "print(e*v % q == 1)"
   ]
  },
  {
   "cell_type": "code",
   "execution_count": 105,
   "id": "65ae2151",
   "metadata": {},
   "outputs": [
    {
     "name": "stdout",
     "output_type": "stream",
     "text": [
      "2388958791059351180544408501426030314817377899707863336142133522421550380284\n",
      "27052272878704522276373726035313232179293446216760665224490816967509246703829\n"
     ]
    }
   ],
   "source": [
    "# Шаг 5\n",
    "z1 = int(modRing(s*v))\n",
    "print(z1)\n",
    "z2 = int(modRing(-1*r*v))\n",
    "print(z2)"
   ]
  },
  {
   "cell_type": "code",
   "execution_count": 106,
   "id": "ad70308c",
   "metadata": {},
   "outputs": [
    {
     "data": {
      "text/plain": [
       "(14189083577683248705338699822309083472028665172171027963340404431292367084468 : 6320501109224377206438975229473014763890586457809139229047545248997237319691 : 1)"
      ]
     },
     "execution_count": 106,
     "metadata": {},
     "output_type": "execute_result"
    }
   ],
   "source": [
    "# Шаг 6:\n",
    "C = z1*P + z2*Q\n",
    "C"
   ]
  },
  {
   "cell_type": "code",
   "execution_count": 107,
   "id": "f48d33e5",
   "metadata": {},
   "outputs": [
    {
     "name": "stdout",
     "output_type": "stream",
     "text": [
      "14189083577683248705338699822309083472028665172171027963340404431292367084468\n",
      "signature is TRUE\n"
     ]
    }
   ],
   "source": [
    "# Шаг 7:\n",
    "R = int(modRing(C[0]))\n",
    "print(R)\n",
    "if R == r:\n",
    "    print('signature is TRUE')\n",
    "else:\n",
    "    print('signature is FALSE')"
   ]
  },
  {
   "cell_type": "code",
   "execution_count": null,
   "id": "7b4f038c",
   "metadata": {},
   "outputs": [],
   "source": [
    "# Ура!!! работает"
   ]
  }
 ],
 "metadata": {
  "kernelspec": {
   "display_name": "SageMath 9.5",
   "language": "sage",
   "name": "sagemath"
  },
  "language_info": {
   "codemirror_mode": {
    "name": "ipython",
    "version": 3
   },
   "file_extension": ".py",
   "mimetype": "text/x-python",
   "name": "python",
   "nbconvert_exporter": "python",
   "pygments_lexer": "ipython3",
   "version": "3.10.12"
  }
 },
 "nbformat": 4,
 "nbformat_minor": 5
}
