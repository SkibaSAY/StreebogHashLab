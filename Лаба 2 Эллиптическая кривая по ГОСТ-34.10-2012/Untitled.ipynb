{
 "cells": [
  {
   "cell_type": "code",
   "execution_count": 19,
   "id": "7d1887fc",
   "metadata": {},
   "outputs": [],
   "source": [
    "# Пример, потом сгенерирую свои параметры, смотрите, пожалуйста, ниже\n",
    "# – простое число p - модуль эллиптической кривой;\n",
    "\n",
    "p = 6277101735386680763835789423207666416083908700390324961279\n",
    "F = GF(p)\n",
    "\n",
    "# Sage: https://doc.sagemath.org/html/en/constructions/elliptic_curves.html\n",
    "# – эллиптическая кривая E, задаваемая a,b from F\n",
    "a = 21\n",
    "b = 10"
   ]
  },
  {
   "cell_type": "code",
   "execution_count": 20,
   "id": "4d424593",
   "metadata": {},
   "outputs": [],
   "source": [
    "E = EllipticCurve(F, [0,0,0,a,b])"
   ]
  },
  {
   "cell_type": "code",
   "execution_count": 21,
   "id": "a13f3713",
   "metadata": {},
   "outputs": [
    {
     "data": {
      "text/plain": [
       "Elliptic Curve defined by y^2 = x^3 + 21*x + 10 over Finite Field of size 6277101735386680763835789423207666416083908700390324961279"
      ]
     },
     "execution_count": 21,
     "metadata": {},
     "output_type": "execute_result"
    }
   ],
   "source": [
    "E"
   ]
  },
  {
   "cell_type": "code",
   "execution_count": 22,
   "id": "770c3162",
   "metadata": {},
   "outputs": [],
   "source": [
    "# порядок группы точек эллиптическойф кривой Е\n",
    "m = E.cardinality()"
   ]
  },
  {
   "cell_type": "code",
   "execution_count": null,
   "id": "aa394eff",
   "metadata": {},
   "outputs": [],
   "source": []
  },
  {
   "cell_type": "code",
   "execution_count": 23,
   "id": "5b8e717e",
   "metadata": {},
   "outputs": [
    {
     "data": {
      "text/plain": [
       "192"
      ]
     },
     "execution_count": 23,
     "metadata": {},
     "output_type": "execute_result"
    }
   ],
   "source": [
    "m.nbits()\n"
   ]
  },
  {
   "cell_type": "code",
   "execution_count": null,
   "id": "8bd0fb49",
   "metadata": {},
   "outputs": [],
   "source": [
    "# Нужно сгенерировать кривую с большим простым порядом >= 254 бит <= 255 bit"
   ]
  },
  {
   "cell_type": "code",
   "execution_count": 45,
   "id": "b575588e",
   "metadata": {},
   "outputs": [],
   "source": [
    "#p = random_prime(2^255-1,False,2^254)\n",
    "p = 30699232851861250083325455112151246498963906158005131330497024639069102717541"
   ]
  },
  {
   "cell_type": "code",
   "execution_count": 46,
   "id": "6f45fafd",
   "metadata": {},
   "outputs": [
    {
     "data": {
      "text/plain": [
       "True"
      ]
     },
     "execution_count": 46,
     "metadata": {},
     "output_type": "execute_result"
    }
   ],
   "source": [
    "is_prime(p)"
   ]
  },
  {
   "cell_type": "code",
   "execution_count": 47,
   "id": "ba77e773",
   "metadata": {},
   "outputs": [
    {
     "name": "stdout",
     "output_type": "stream",
     "text": [
      "30699232851861250083325455112151246498963906158005131330497024639069102717541\n"
     ]
    }
   ],
   "source": [
    "print(p)"
   ]
  },
  {
   "cell_type": "code",
   "execution_count": 48,
   "id": "185263d3",
   "metadata": {},
   "outputs": [
    {
     "data": {
      "text/plain": [
       "255"
      ]
     },
     "execution_count": 48,
     "metadata": {},
     "output_type": "execute_result"
    }
   ],
   "source": [
    "p.nbits()"
   ]
  },
  {
   "cell_type": "code",
   "execution_count": null,
   "id": "b61b142b",
   "metadata": {},
   "outputs": [],
   "source": []
  },
  {
   "cell_type": "code",
   "execution_count": 63,
   "id": "ed36d1da",
   "metadata": {},
   "outputs": [],
   "source": [
    "def check_gost_255_parameters(E, p, q) -> bool:\n",
    "    \"\"\"\n",
    "    Проверяет Е по требованиям ГОСТ для m = 255 бит \n",
    "    \"\"\"\n",
    "    m = E.cardinality()\n",
    "    \n",
    "    for t in range(1,32):\n",
    "        if (p ^ t) % q == 1:\n",
    "            return False\n",
    "    \n",
    "    if p == m:\n",
    "        return False\n",
    "    \n",
    "    if E.j_invariant() in [0, 1728]:\n",
    "        return False\n",
    "\n",
    "    return True"
   ]
  },
  {
   "cell_type": "code",
   "execution_count": 69,
   "id": "4e571d15",
   "metadata": {},
   "outputs": [
    {
     "name": "stdout",
     "output_type": "stream",
     "text": [
      "Success\n"
     ]
    }
   ],
   "source": [
    "# Можно пропустить, дальше будет взят результат подбора\n",
    "# Теперь нам нужно подобрать параметр б, чтобы порядок кривой был большой, ради этого мы и задали большой простой р\n",
    "F = GF(p)\n",
    "\n",
    "# Sage: https://doc.sagemath.org/html/en/constructions/elliptic_curves.html\n",
    "# – эллиптическая кривая E, задаваемая a,b from F\n",
    "a = 21\n",
    "b = 1\n",
    "\n",
    "# сделаем 100 попыток\n",
    "for i in range(1,100):\n",
    "    b = i\n",
    "    try:\n",
    "        E = EllipticCurve(F, [0,0,0,a,b])\n",
    "    except:\n",
    "        continue\n",
    "    # порядок группы точек эллиптическойф кривой Е\n",
    "    m = E.cardinality()\n",
    "    q = m\n",
    "\n",
    "    if is_prime(m) and m.nbits() == 255 and check_gost_255_parameters(E, p, q):\n",
    "        print('Success')\n",
    "        break\n",
    "else:\n",
    "    print('bad')\n",
    "    "
   ]
  },
  {
   "cell_type": "code",
   "execution_count": 70,
   "id": "49d5ef99",
   "metadata": {
    "scrolled": true
   },
   "outputs": [
    {
     "name": "stdout",
     "output_type": "stream",
     "text": [
      "91\n"
     ]
    }
   ],
   "source": [
    "print(b)"
   ]
  },
  {
   "cell_type": "code",
   "execution_count": 71,
   "id": "4a364ea3",
   "metadata": {},
   "outputs": [
    {
     "name": "stdout",
     "output_type": "stream",
     "text": [
      "Success\n"
     ]
    }
   ],
   "source": [
    "m = E.cardinality()\n",
    "q = m\n",
    "\n",
    "if is_prime(m) and m.nbits() == 255 and check_gost_255_parameters(E, p, q):\n",
    "    print('Success')\n",
    "else:\n",
    "    print('bad')"
   ]
  },
  {
   "cell_type": "code",
   "execution_count": null,
   "id": "d34eb13b",
   "metadata": {},
   "outputs": [],
   "source": []
  },
  {
   "cell_type": "code",
   "execution_count": 72,
   "id": "5c1e97ec",
   "metadata": {},
   "outputs": [],
   "source": [
    "# б = 91 оказалось подходящим по условия\n",
    "# (Из условий Александра Романовича): порядки точек совпадают - простой порядок всей группы гарантирует это\n",
    "# (ГОСТ) проверили требования к параметрам кривой в ГОСТ: check_gost_255_parameters\n",
    "p = 30699232851861250083325455112151246498963906158005131330497024639069102717541\n",
    "F = GF(p)\n",
    "a = 21\n",
    "b = 91\n",
    "E = EllipticCurve(F, [0,0,0,a,b])\n",
    "m = E.cardinality()\n",
    "q = m\n"
   ]
  },
  {
   "cell_type": "code",
   "execution_count": 66,
   "id": "d09c632a",
   "metadata": {},
   "outputs": [
    {
     "data": {
      "text/plain": [
       "Elliptic Curve defined by y^2 = x^3 + 21*x + 91 over Finite Field of size 30699232851861250083325455112151246498963906158005131330497024639069102717541"
      ]
     },
     "execution_count": 66,
     "metadata": {},
     "output_type": "execute_result"
    }
   ],
   "source": [
    "E"
   ]
  },
  {
   "cell_type": "code",
   "execution_count": null,
   "id": "3587c11c",
   "metadata": {},
   "outputs": [],
   "source": []
  },
  {
   "cell_type": "code",
   "execution_count": 84,
   "id": "94ac2188",
   "metadata": {},
   "outputs": [],
   "source": [
    "# 2.Формирование цифровой подписи\n",
    "# hash(message) беру из прошлой лабы, тк мой Стрибог не интегрирован в блокнот\n",
    "message_hash = '5b8c33beef3db4e41a5658a2a6f621de9e7d578b74c3eda16d117dce3e533'"
   ]
  },
  {
   "cell_type": "code",
   "execution_count": 82,
   "id": "fa758fb8",
   "metadata": {},
   "outputs": [
    {
     "name": "stdout",
     "output_type": "stream",
     "text": [
      "1100\n"
     ]
    }
   ],
   "source": [
    "print(bin(int('c',16))[2:])"
   ]
  },
  {
   "cell_type": "code",
   "execution_count": 93,
   "id": "6bf970ae",
   "metadata": {},
   "outputs": [],
   "source": [
    "msg_hash_bin = map(lambda x: bin(int(x, 16))[2:], message_hash)"
   ]
  },
  {
   "cell_type": "code",
   "execution_count": 94,
   "id": "144ad28b",
   "metadata": {},
   "outputs": [],
   "source": [
    "msg_hash_bin = list(map(lambda x: '0'*(4-len(x)) + x, msg_hash_bin))"
   ]
  },
  {
   "cell_type": "code",
   "execution_count": 96,
   "id": "ae5dc454",
   "metadata": {},
   "outputs": [],
   "source": [
    "msg_hash_bin = ''.join(msg_hash_bin)"
   ]
  },
  {
   "cell_type": "code",
   "execution_count": 97,
   "id": "e238b349",
   "metadata": {},
   "outputs": [
    {
     "data": {
      "text/plain": [
       "'0101101110001100001100111011111011101111001111011011010011100100000110100101011001011000101000101010011011110110001000011101111010011110011111010101011110001011011101001100001111101101101000010110110100010001011111011100111000111110010100110011'"
      ]
     },
     "execution_count": 97,
     "metadata": {},
     "output_type": "execute_result"
    }
   ],
   "source": [
    "msg_hash_bin"
   ]
  },
  {
   "cell_type": "code",
   "execution_count": null,
   "id": "d6c0b276",
   "metadata": {},
   "outputs": [],
   "source": [
    "# Функции преобразования в число и обратно\n",
    "def "
   ]
  }
 ],
 "metadata": {
  "kernelspec": {
   "display_name": "SageMath 9.5",
   "language": "sage",
   "name": "sagemath"
  },
  "language_info": {
   "codemirror_mode": {
    "name": "ipython",
    "version": 3
   },
   "file_extension": ".py",
   "mimetype": "text/x-python",
   "name": "python",
   "nbconvert_exporter": "python",
   "pygments_lexer": "ipython3",
   "version": "3.10.12"
  }
 },
 "nbformat": 4,
 "nbformat_minor": 5
}
